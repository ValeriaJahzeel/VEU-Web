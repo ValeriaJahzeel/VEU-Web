{
 "cells": [
  {
   "cell_type": "code",
   "execution_count": 1,
   "metadata": {},
   "outputs": [
    {
     "name": "stdout",
     "output_type": "stream",
     "text": [
      "Conversión completada. El resultado se ha guardado en 'output.json'.\n"
     ]
    }
   ],
   "source": [
    "import json\n",
    "import csv\n",
    "import io\n",
    "\n",
    "# Función para leer el archivo y convertirlo a JSON\n",
    "def txt_to_json(file_path):\n",
    "    data = []\n",
    "    id_counter = 1\n",
    "\n",
    "    # Campos que queremos mantener\n",
    "    fields_to_keep = ['d_codigo', 'd_asenta', 'd_tipo_asenta', 'D_mnpio', 'd_estado', 'd_zona']\n",
    "\n",
    "    # Abrir el archivo con codificación ISO-8859-1\n",
    "    with io.open(file_path, 'r', encoding='iso-8859-1') as file:\n",
    "        # Crear un lector CSV\n",
    "        reader = csv.DictReader(file, delimiter='|')\n",
    "        \n",
    "        # Iterar sobre cada fila\n",
    "        for row in reader:\n",
    "            new_row = {field: row[field] for field in fields_to_keep}\n",
    "            \n",
    "            # Agregar los campos 'id' y 'pais'\n",
    "            new_row['id'] = id_counter\n",
    "            new_row['pais'] = \"México\"\n",
    "            id_counter += 1\n",
    "            \n",
    "            # Agregar la fila al array de datos\n",
    "            data.append(new_row)\n",
    "            \n",
    "    # Convertir a JSON\n",
    "    json_data = json.dumps(data, ensure_ascii=False, indent=2)\n",
    "    \n",
    "    return json_data\n",
    "\n",
    "# Uso de la función\n",
    "file_path = 'cp.txt'  # Reemplaza con la ruta de tu archivo\n",
    "json_output = txt_to_json(file_path)\n",
    "\n",
    "# Guardar el resultado en un archivo JSON\n",
    "with io.open('output.json', 'w', encoding='utf-8') as json_file:\n",
    "    json_file.write(json_output)\n",
    "\n",
    "print(\"Conversión completada. El resultado se ha guardado en 'output.json'.\")"
   ]
  }
 ],
 "metadata": {
  "kernelspec": {
   "display_name": "Python 3",
   "language": "python",
   "name": "python3"
  },
  "language_info": {
   "codemirror_mode": {
    "name": "ipython",
    "version": 3
   },
   "file_extension": ".py",
   "mimetype": "text/x-python",
   "name": "python",
   "nbconvert_exporter": "python",
   "pygments_lexer": "ipython3",
   "version": "3.10.12"
  }
 },
 "nbformat": 4,
 "nbformat_minor": 2
}
